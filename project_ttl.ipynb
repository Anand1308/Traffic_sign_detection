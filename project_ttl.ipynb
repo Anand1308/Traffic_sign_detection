{
 "cells": [
  {
   "cell_type": "code",
   "execution_count": 31,
   "id": "4e9d3916",
   "metadata": {},
   "outputs": [],
   "source": [
    "# import libraries\n",
    "import numpy as np \n",
    "import pandas as pd \n",
    "import matplotlib.pyplot as plt\n",
    "import cv2\n",
    "import tensorflow as tf\n",
    "from PIL import Image\n",
    "import os\n",
    "os.chdir(\"C:\\\\Users\\\\KIIT\\\\Desktop\\\\TT Lab\\\\Untitled Folder\")\n",
    "from sklearn.model_selection import train_test_split\n",
    "from tensorflow.keras.utils import to_categorical\n",
    "from tensorflow.keras.models import Sequential, load_model\n",
    "from tensorflow.keras.layers import Conv2D, MaxPool2D, Dense, Flatten, Dropout\n",
    "\n",
    "\n",
    "\n",
    "\n",
    "\n",
    "\n"
   ]
  },
  {
   "cell_type": "markdown",
   "id": "c203adf3",
   "metadata": {},
   "source": [
    "# Store Data, Labels in the List"
   ]
  },
  {
   "cell_type": "code",
   "execution_count": 32,
   "id": "a1140959",
   "metadata": {},
   "outputs": [],
   "source": [
    "data = []\n",
    "labels = []\n",
    "classes = 43\n",
    "cur_path = os.getcwd()"
   ]
  },
  {
   "cell_type": "code",
   "execution_count": 33,
   "id": "91db8cb0",
   "metadata": {},
   "outputs": [
    {
     "data": {
      "text/plain": [
       "'C:\\\\Users\\\\KIIT\\\\Desktop\\\\TT Lab\\\\Untitled Folder'"
      ]
     },
     "execution_count": 33,
     "metadata": {},
     "output_type": "execute_result"
    }
   ],
   "source": [
    "cur_path"
   ]
  },
  {
   "cell_type": "markdown",
   "id": "6206d6fa",
   "metadata": {},
   "source": [
    "# Preprocess the images"
   ]
  },
  {
   "cell_type": "code",
   "execution_count": 34,
   "id": "cd053725",
   "metadata": {},
   "outputs": [],
   "source": [
    "for i in range(classes):\n",
    "    class_path = os.path.join(\"C:\\\\Users\\\\KIIT\\\\Desktop\\\\TT Lab\\\\Untitled Folder\\\\Train\", str(i))\n",
    "    images = os.listdir(class_path)\n",
    "    for a in images:\n",
    "        try:\n",
    "            image = Image.open(os.path.join(class_path, a))\n",
    "            image = image.resize((30,30))\n",
    "            image = np.array(image)\n",
    "            data.append(image)\n",
    "            labels.append(i)\n",
    "        except Exception as e:\n",
    "            print(e)\n"
   ]
  },
  {
   "cell_type": "markdown",
   "id": "00515af3",
   "metadata": {},
   "source": [
    "# Convert Lists into numpy arrays"
   ]
  },
  {
   "cell_type": "code",
   "execution_count": 35,
   "id": "b928b484",
   "metadata": {},
   "outputs": [],
   "source": [
    "data = np.array(data)\n",
    "labels = np.array(labels)\n"
   ]
  },
  {
   "cell_type": "markdown",
   "id": "4d24a266",
   "metadata": {},
   "source": [
    "# Save Labels & Data \n"
   ]
  },
  {
   "cell_type": "code",
   "execution_count": 36,
   "id": "929d2a8f",
   "metadata": {},
   "outputs": [],
   "source": [
    "np.save('./train/data',data)\n",
    "np.save('./train/target',labels)"
   ]
  },
  {
   "cell_type": "markdown",
   "id": "62c010f9",
   "metadata": {},
   "source": [
    "# Load data & Labels"
   ]
  },
  {
   "cell_type": "code",
   "execution_count": 37,
   "id": "f061bf56",
   "metadata": {},
   "outputs": [],
   "source": [
    "data=np.load('./train/data.npy')\n",
    "labels=np.load('./train/target.npy')"
   ]
  },
  {
   "cell_type": "code",
   "execution_count": 38,
   "id": "0fc864b4",
   "metadata": {},
   "outputs": [
    {
     "name": "stdout",
     "output_type": "stream",
     "text": [
      "(39209, 30, 30, 3) (39209,)\n"
     ]
    }
   ],
   "source": [
    "print(data.shape, labels.shape)"
   ]
  },
  {
   "cell_type": "code",
   "execution_count": 39,
   "id": "508e0bd1",
   "metadata": {},
   "outputs": [],
   "source": [
    "X_train, X_test, y_train, y_test = train_test_split(data, labels, test_size=0.2, random_state=0)"
   ]
  },
  {
   "cell_type": "code",
   "execution_count": 40,
   "id": "c4d1d9a9",
   "metadata": {},
   "outputs": [
    {
     "name": "stdout",
     "output_type": "stream",
     "text": [
      "(31367, 30, 30, 3) (7842, 30, 30, 3) (31367,) (7842,)\n"
     ]
    }
   ],
   "source": [
    "print(X_train.shape, X_test.shape, y_train.shape, y_test.shape)"
   ]
  },
  {
   "cell_type": "markdown",
   "id": "a5ae337e",
   "metadata": {},
   "source": [
    "# Onehot encoding"
   ]
  },
  {
   "cell_type": "code",
   "execution_count": 41,
   "id": "787ccc64",
   "metadata": {},
   "outputs": [],
   "source": [
    "y_train = to_categorical(y_train, 43)\n",
    "y_test = to_categorical(y_test, 43)"
   ]
  },
  {
   "cell_type": "markdown",
   "id": "df1aa19f",
   "metadata": {},
   "source": [
    "# Build the model"
   ]
  },
  {
   "cell_type": "code",
   "execution_count": 42,
   "id": "d8e887dd",
   "metadata": {},
   "outputs": [],
   "source": [
    "model = Sequential()\n",
    "model.add(Conv2D(filters=32, kernel_size=(5,5), activation='relu', input_shape=X_train.shape[1:]))\n",
    "model.add(Conv2D(filters=32, kernel_size=(5,5), activation='relu'))\n",
    "model.add(MaxPool2D(pool_size=(2, 2)))\n",
    "model.add(Dropout(rate=0.25))\n",
    "model.add(Conv2D(filters=64, kernel_size=(3, 3), activation='relu'))\n",
    "model.add(Conv2D(filters=64, kernel_size=(3, 3), activation='relu'))\n",
    "model.add(MaxPool2D(pool_size=(2, 2)))\n",
    "model.add(Dropout(rate=0.25))\n",
    "model.add(Flatten())\n",
    "model.add(Dense(256, activation='relu'))\n",
    "model.add(Dropout(rate=0.5))\n",
    "model.add(Dense(43, activation='softmax'))"
   ]
  },
  {
   "cell_type": "code",
   "execution_count": 43,
   "id": "8bb23f24",
   "metadata": {},
   "outputs": [],
   "source": [
    "model.compile(loss='categorical_crossentropy', optimizer='adam', metrics=['accuracy'])\n"
   ]
  },
  {
   "cell_type": "code",
   "execution_count": 44,
   "id": "2ff95960",
   "metadata": {},
   "outputs": [
    {
     "name": "stdout",
     "output_type": "stream",
     "text": [
      "Epoch 1/20\n",
      "981/981 [==============================] - 169s 169ms/step - loss: 2.1282 - accuracy: 0.4573 - val_loss: 0.7961 - val_accuracy: 0.7677\n",
      "Epoch 2/20\n",
      "981/981 [==============================] - 161s 164ms/step - loss: 1.0026 - accuracy: 0.6965 - val_loss: 0.5426 - val_accuracy: 0.8289\n",
      "Epoch 3/20\n",
      "981/981 [==============================] - 157s 160ms/step - loss: 0.7585 - accuracy: 0.7645 - val_loss: 0.3890 - val_accuracy: 0.8849\n",
      "Epoch 4/20\n",
      "981/981 [==============================] - 165s 168ms/step - loss: 0.6517 - accuracy: 0.7984 - val_loss: 0.3224 - val_accuracy: 0.9036\n",
      "Epoch 5/20\n",
      "981/981 [==============================] - 161s 164ms/step - loss: 0.5775 - accuracy: 0.8221 - val_loss: 0.2644 - val_accuracy: 0.9232\n",
      "Epoch 6/20\n",
      "981/981 [==============================] - 160s 163ms/step - loss: 0.5404 - accuracy: 0.8324 - val_loss: 0.2343 - val_accuracy: 0.9273\n",
      "Epoch 7/20\n",
      "981/981 [==============================] - 161s 164ms/step - loss: 0.5106 - accuracy: 0.8415 - val_loss: 0.2100 - val_accuracy: 0.9366\n",
      "Epoch 8/20\n",
      "981/981 [==============================] - 156s 159ms/step - loss: 0.4800 - accuracy: 0.8510 - val_loss: 0.1814 - val_accuracy: 0.9421\n",
      "Epoch 9/20\n",
      "981/981 [==============================] - 157s 160ms/step - loss: 0.4652 - accuracy: 0.8535 - val_loss: 0.1760 - val_accuracy: 0.9461\n",
      "Epoch 10/20\n",
      "981/981 [==============================] - 160s 163ms/step - loss: 0.4574 - accuracy: 0.8581 - val_loss: 0.1720 - val_accuracy: 0.9522\n",
      "Epoch 11/20\n",
      "981/981 [==============================] - 193s 197ms/step - loss: 0.4456 - accuracy: 0.8634 - val_loss: 0.2816 - val_accuracy: 0.9161\n",
      "Epoch 12/20\n",
      "981/981 [==============================] - 191s 194ms/step - loss: 0.4266 - accuracy: 0.8652 - val_loss: 0.1567 - val_accuracy: 0.9549\n",
      "Epoch 13/20\n",
      "981/981 [==============================] - 190s 194ms/step - loss: 0.4273 - accuracy: 0.8683 - val_loss: 0.1525 - val_accuracy: 0.9541\n",
      "Epoch 14/20\n",
      "981/981 [==============================] - 190s 194ms/step - loss: 0.4170 - accuracy: 0.8717 - val_loss: 0.1485 - val_accuracy: 0.9575\n",
      "Epoch 15/20\n",
      "981/981 [==============================] - 188s 192ms/step - loss: 0.4176 - accuracy: 0.8710 - val_loss: 0.1490 - val_accuracy: 0.9569\n",
      "Epoch 16/20\n",
      "981/981 [==============================] - 190s 194ms/step - loss: 0.4071 - accuracy: 0.8734 - val_loss: 0.2967 - val_accuracy: 0.9078\n",
      "Epoch 17/20\n",
      "981/981 [==============================] - 193s 196ms/step - loss: 0.4017 - accuracy: 0.8780 - val_loss: 0.1180 - val_accuracy: 0.9654\n",
      "Epoch 18/20\n",
      "981/981 [==============================] - 192s 196ms/step - loss: 0.4066 - accuracy: 0.8758 - val_loss: 0.1456 - val_accuracy: 0.9614\n",
      "Epoch 19/20\n",
      "981/981 [==============================] - 190s 194ms/step - loss: 0.3995 - accuracy: 0.8776 - val_loss: 0.1587 - val_accuracy: 0.9545\n",
      "Epoch 20/20\n",
      "981/981 [==============================] - 191s 195ms/step - loss: 0.3812 - accuracy: 0.8838 - val_loss: 0.1516 - val_accuracy: 0.9524\n"
     ]
    }
   ],
   "source": [
    "epochs = 20\n",
    "history = model.fit(X_train, y_train, batch_size=32, epochs=epochs, validation_data=(X_test, y_test))"
   ]
  },
  {
   "cell_type": "code",
   "execution_count": 45,
   "id": "4f67bf6d",
   "metadata": {},
   "outputs": [
    {
     "data": {
      "image/png": "[encoded data removed]",
      "text/plain": [
       "<Figure size 640x480 with 1 Axes>"
      ]
     },
     "metadata": {},
     "output_type": "display_data"
    }
   ],
   "source": [
    "plt.figure(0)\n",
    "plt.plot(history.history['accuracy'], label='training accuracy')\n",
    "plt.plot(history.history['val_accuracy'], label='val accuracy')\n",
    "plt.title('Accuracy')\n",
    "plt.xlabel('epochs')\n",
    "plt.ylabel('accuracy')\n",
    "plt.legend()\n",
    "plt.show()"
   ]
  },
  {
   "cell_type": "code",
   "execution_count": 46,
   "id": "0f523d6f",
   "metadata": {},
   "outputs": [
    {
     "data": {
      "image/png": "[encoded data removed]",
      "text/plain": [
       "<Figure size 640x480 with 1 Axes>"
      ]
     },
     "metadata": {},
     "output_type": "display_data"
    }
   ],
   "source": [
    "plt.plot(history.history['loss'], label='training loss')\n",
    "plt.plot(history.history['val_loss'], label='val loss')\n",
    "plt.title('Loss')\n",
    "plt.xlabel('epochs')\n",
    "plt.ylabel('loss')\n",
    "plt.legend()\n",
    "plt.show()"
   ]
  },
  {
   "cell_type": "markdown",
   "id": "947e5a99",
   "metadata": {},
   "source": [
    "# Testing on Test data"
   ]
  },
  {
   "cell_type": "code",
   "execution_count": 67,
   "id": "c2a732af",
   "metadata": {},
   "outputs": [],
   "source": [
    "def testing(testcsv):\n",
    "    y_test = pd.read_csv(testcsv)\n",
    "    label = y_test[\"ClassId\"].values\n",
    "    imgs = y_test[\"Path\"].values\n",
    "    data=[]\n",
    "    for img in imgs:\n",
    "        image = Image.open(img)\n",
    "        image = image.resize((30,30))\n",
    "        data.append(np.array(image))\n",
    "    X_test=np.array(data)\n",
    "    return X_test,label"
   ]
  },
  {
   "cell_type": "code",
   "execution_count": 68,
   "id": "d1b6908a",
   "metadata": {},
   "outputs": [],
   "source": [
    "X_test, label = testing(\"Test.csv\")"
   ]
  },
  {
   "cell_type": "code",
   "execution_count": 88,
   "id": "311d5953",
   "metadata": {},
   "outputs": [
    {
     "name": "stdout",
     "output_type": "stream",
     "text": [
      "395/395 [==============================] - 2s 6ms/step\n"
     ]
    },
    {
     "data": {
      "text/plain": [
       "array([16,  1, 38, ...,  3,  8, 10], dtype=int64)"
      ]
     },
     "execution_count": 88,
     "metadata": {},
     "output_type": "execute_result"
    }
   ],
   "source": [
    "Y_prob = model.predict(X_test)\n",
    "Y_pred = np.argmax(Y_prob, axis=1)\n",
    "Y_pred"
   ]
  },
  {
   "cell_type": "markdown",
   "id": "6fadf750",
   "metadata": {},
   "source": [
    "# Test Data Accuracy"
   ]
  },
  {
   "cell_type": "code",
   "execution_count": 89,
   "id": "9272cc95",
   "metadata": {},
   "outputs": [
    {
     "name": "stdout",
     "output_type": "stream",
     "text": [
      "0.9076009501187648\n"
     ]
    }
   ],
   "source": [
    "from sklearn.metrics import accuracy_score\n",
    "print(accuracy_score(label, Y_pred))\n"
   ]
  },
  {
   "cell_type": "markdown",
   "id": "1f82d090",
   "metadata": {},
   "source": [
    "# Model Saving"
   ]
  },
  {
   "cell_type": "code",
   "execution_count": 90,
   "id": "51bf00d5",
   "metadata": {},
   "outputs": [],
   "source": [
    "model.save(\"./train/TSR.h5\")"
   ]
  },
  {
   "cell_type": "markdown",
   "id": "a3a56b85",
   "metadata": {},
   "source": [
    "# Model Loading"
   ]
  },
  {
   "cell_type": "code",
   "execution_count": 91,
   "id": "18d8fb83",
   "metadata": {},
   "outputs": [],
   "source": [
    "import os\n",
    "os.chdir(\"C:\\\\Users\\\\KIIT\\\\Desktop\\\\TT Lab\\\\Untitled Folder\")\n",
    "from keras.models import load_model\n",
    "model = load_model('./train/TSR.h5')"
   ]
  },
  {
   "cell_type": "code",
   "execution_count": 92,
   "id": "1d42557f",
   "metadata": {},
   "outputs": [],
   "source": [
    "# Classes of trafic signs\n",
    "classes = { 0:'Speed limit (20km/h)',\n",
    "            1:'Speed limit (30km/h)', \n",
    "            2:'Speed limit (50km/h)', \n",
    "            3:'Speed limit (60km/h)', \n",
    "            4:'Speed limit (70km/h)', \n",
    "            5:'Speed limit (80km/h)', \n",
    "            6:'End of speed limit (80km/h)', \n",
    "            7:'Speed limit (100km/h)', \n",
    "            8:'Speed limit (120km/h)', \n",
    "            9:'No passing', \n",
    "            10:'No passing veh over 3.5 tons', \n",
    "            11:'Right-of-way at intersection', \n",
    "            12:'Priority road', \n",
    "            13:'Yield', \n",
    "            14:'Stop', \n",
    "            15:'No vehicles', \n",
    "            16:'Veh > 3.5 tons prohibited', \n",
    "            17:'No entry', \n",
    "            18:'General caution', \n",
    "            19:'Dangerous curve left', \n",
    "            20:'Dangerous curve right', \n",
    "            21:'Double curve', \n",
    "            22:'Bumpy road', \n",
    "            23:'Slippery road', \n",
    "            24:'Road narrows on the right', \n",
    "            25:'Road work', \n",
    "            26:'Traffic signals', \n",
    "            27:'Pedestrians', \n",
    "            28:'Children crossing', \n",
    "            29:'Bicycles crossing', \n",
    "            30:'Beware of ice/snow',\n",
    "            31:'Wild animals crossing', \n",
    "            32:'End speed + passing limits', \n",
    "            33:'Turn right ahead', \n",
    "            34:'Turn left ahead', \n",
    "            35:'Ahead only', \n",
    "            36:'Go straight or right', \n",
    "            37:'Go straight or left', \n",
    "            38:'Keep right', \n",
    "            39:'Keep left', \n",
    "            40:'Roundabout mandatory', \n",
    "            41:'End of no passing', \n",
    "            42:'End no passing veh > 3.5 tons' }"
   ]
  },
  {
   "cell_type": "code",
   "execution_count": 96,
   "id": "9131d4b6",
   "metadata": {},
   "outputs": [],
   "source": [
    "from PIL import Image\n",
    "import numpy as np\n",
    "import matplotlib.pyplot as plt\n",
    "def test_on_img(img):\n",
    "    data=[]\n",
    "    image = Image.open(img)\n",
    "    image = image.resize((30,30))\n",
    "    data.append(np.array(image))\n",
    "    X_test=np.array(data)\n",
    "    Y_pred = model.predict(X_test)\n",
    "    return image,Y_pred"
   ]
  },
  {
   "cell_type": "code",
   "execution_count": 104,
   "id": "e5d9ce7b",
   "metadata": {},
   "outputs": [
    {
     "name": "stdout",
     "output_type": "stream",
     "text": [
      "1/1 [==============================] - 0s 22ms/step\n",
      "Predicted traffic sign is: Bumpy road\n"
     ]
    },
    {
     "data": {
      "image/png": "[encoded data removed]",
      "text/plain": [
       "<Figure size 640x480 with 1 Axes>"
      ]
     },
     "metadata": {},
     "output_type": "display_data"
    }
   ],
   "source": [
    "plot, prediction = test_on_img(\"C:\\\\Users\\\\KIIT\\\\Desktop\\\\TT Lab\\\\Untitled Folder\\\\Test\\\\00500.png\")\n",
    "rounded_prediction = np.round(prediction).astype(int)\n",
    "predicted_class = np.argmax(rounded_prediction)\n",
    "print(\"Predicted traffic sign is:\", classes[predicted_class])\n",
    "plt.imshow(plot)\n",
    "plt.show()\n"
   ]
  }
 ],
 "metadata": {
  "kernelspec": {
   "display_name": "Python 3 (ipykernel)",
   "language": "python",
   "name": "python3"
  },
  "language_info": {
   "codemirror_mode": {
    "name": "ipython",
    "version": 3
   },
   "file_extension": ".py",
   "mimetype": "text/x-python",
   "name": "python",
   "nbconvert_exporter": "python",
   "pygments_lexer": "ipython3",
   "version": "3.10.9"
  }
 },
 "nbformat": 4,
 "nbformat_minor": 5
}
